{
 "cells": [
  {
   "cell_type": "code",
   "execution_count": 40,
   "metadata": {},
   "outputs": [],
   "source": [
    "from dotenv import load_dotenv\n",
    "load_dotenv()\n",
    "from e2b_code_interpreter import Sandbox"
   ]
  },
  {
   "cell_type": "code",
   "execution_count": 50,
   "metadata": {},
   "outputs": [],
   "source": [
    "import pandas as pd\n",
    "import matplotlib.pyplot as plt\n",
    "import seaborn as sns\n",
    "import numpy as np\n",
    "import os\n",
    "import sys\n"
   ]
  },
  {
   "cell_type": "code",
   "execution_count": 51,
   "metadata": {},
   "outputs": [],
   "source": [
    "df=pd.read_csv(\"/Users/shivanshmahajan/Desktop/data_agent/e2b/Train_Data.csv\")"
   ]
  },
  {
   "cell_type": "code",
   "execution_count": 52,
   "metadata": {},
   "outputs": [
    {
     "name": "stdout",
     "output_type": "stream",
     "text": [
      "<class 'pandas.core.frame.DataFrame'>\n",
      "RangeIndex: 3630 entries, 0 to 3629\n",
      "Data columns (total 7 columns):\n",
      " #   Column    Non-Null Count  Dtype  \n",
      "---  ------    --------------  -----  \n",
      " 0   age       3630 non-null   float64\n",
      " 1   sex       3630 non-null   object \n",
      " 2   bmi       3630 non-null   float64\n",
      " 3   smoker    3630 non-null   object \n",
      " 4   region    3630 non-null   object \n",
      " 5   children  3630 non-null   int64  \n",
      " 6   charges   3630 non-null   float64\n",
      "dtypes: float64(3), int64(1), object(3)\n",
      "memory usage: 198.6+ KB\n"
     ]
    }
   ],
   "source": [
    "df.info()"
   ]
  },
  {
   "cell_type": "code",
   "execution_count": 44,
   "metadata": {},
   "outputs": [],
   "source": [
    "# Create sandbox\n",
    "sbx = Sandbox()"
   ]
  },
  {
   "cell_type": "code",
   "execution_count": 45,
   "metadata": {},
   "outputs": [],
   "source": [
    "# Upload the dataset to the sandbox\n",
    "dataset_path_in_sandbox = \"/Users/shivanshmahajan/Desktop/data_agent/e2b/Train_Data.csv\"\n",
    "with open(\"Train_Data.csv\", \"rb\") as f:\n",
    "    dataset_path_in_sandbox = sbx.files.write(\"Train_Data.csv\", f)"
   ]
  },
  {
   "cell_type": "code",
   "execution_count": 53,
   "metadata": {},
   "outputs": [],
   "source": [
    "def run_ai_generated_code(ai_generated_code: str):\n",
    "    print('Running the code in the sandbox....')\n",
    "    execution = sbx.run_code(ai_generated_code)\n",
    "    print('Code execution finished!')\n",
    "\n",
    "    # First let's check if the code ran successfully.\n",
    "    if execution.error: \n",
    "        print('AI-generated code had an error.') \n",
    "        print(execution.error.name) \n",
    "        print(execution.error.value) \n",
    "        print(execution.error.traceback) \n",
    "        sys.exit(1) \n",
    "\n",
    "    # Iterate over all the results and specifically check for png files that will represent the chart.\n",
    "    result_idx = 0 \n",
    "    for result in execution.results: \n",
    "        if result.png: \n",
    "            # Save the png to a file\n",
    "            # The png is in base64 format.\n",
    "            with open(f'chart-{result_idx}.png', 'wb') as f: \n",
    "                f.write(base64.b64decode(result.png)) \n",
    "            print(f'Chart saved to chart-{result_idx}.png') \n",
    "            result_idx += 1 "
   ]
  },
  {
   "cell_type": "code",
   "execution_count": 54,
   "metadata": {},
   "outputs": [],
   "source": [
    "from anthropic import Anthropic\n",
    "\n",
    "prompt = '''\n",
    "I have a CSV file about movies. It has about 10k rows. It's saved in the sandbox at {datasetPathInSandbox.path}.\n",
    "Data columns (total 7 columns):\n",
    " #   Column    Non-Null Count  Dtype  \n",
    "---  ------    --------------  -----  \n",
    " 0   age       3630 non-null   float64\n",
    " 1   sex       3630 non-null   object \n",
    " 2   bmi       3630 non-null   float64\n",
    " 3   smoker    3630 non-null   object \n",
    " 4   region    3630 non-null   object \n",
    " 5   children  3630 non-null   int64  \n",
    " 6   charges   3630 non-null   float64\n",
    "dtypes: float64(3), int64(1), object(3)\n",
    "\n",
    "I want to  get analysis of most smokers and average BMI gruoped under sex. Write Python code that analyzes the dataset based on my request and produces right chart accordingly'''\n",
    "\n",
    "anthropic = Anthropic()\n",
    "msg = anthropic.messages.create(\n",
    "  model='claude-3-7-sonnet-20250219',\n",
    "  max_tokens=1024,\n",
    "  messages=[\n",
    "    {\"role\": \"user\", \"content\": prompt}\n",
    "  ]\n",
    ")"
   ]
  },
  {
   "cell_type": "code",
   "execution_count": 55,
   "metadata": {},
   "outputs": [],
   "source": [
    "msg = anthropic.messages.create(\n",
    "  model='claude-3-7-sonnet-20250219',\n",
    "  max_tokens=1024,\n",
    "  messages=[\n",
    "    {\"role\": \"user\", \"content\": prompt}\n",
    "  ],\n",
    "  tools=[ \n",
    "    { \n",
    "      \"name\": \"run_python_code\", \n",
    "      \"description\": \"Run Python code\", \n",
    "      \"input_schema\": { \n",
    "        \"type\": \"object\", \n",
    "        \"properties\": { \n",
    "          \"code\": { \"type\": \"string\", \"description\": \"The Python code to run\" }, \n",
    "        }, \n",
    "        \"required\": [\"code\"], \n",
    "      }, \n",
    "    }, \n",
    "  ], \n",
    ")"
   ]
  },
  {
   "cell_type": "code",
   "execution_count": 56,
   "metadata": {},
   "outputs": [
    {
     "name": "stdout",
     "output_type": "stream",
     "text": [
      "Will run following code in the sandbox import pandas as pd\n",
      "import matplotlib.pyplot as plt\n",
      "import seaborn as sns\n",
      "import os\n",
      "\n",
      "# List files in the current directory to locate the dataset\n",
      "print(\"Files in current directory:\", os.listdir())\n",
      "\n",
      "# Since the exact path wasn't specified, let's try to find the file\n",
      "csv_files = [f for f in os.listdir() if f.endswith('.csv')]\n",
      "print(\"CSV files found:\", csv_files)\n",
      "\n",
      "# Assuming the first CSV file is our dataset\n",
      "if csv_files:\n",
      "    file_path = csv_files[0]\n",
      "    print(f\"Using file: {file_path}\")\n",
      "    \n",
      "    # Load the dataset\n",
      "    df = pd.read_csv(file_path)\n",
      "    \n",
      "    # Display basic info\n",
      "    print(\"Dataset shape:\", df.shape)\n",
      "    print(\"\\nData sample:\")\n",
      "    print(df.head())\n",
      "    \n",
      "    # Analysis 1: Smokers count by sex\n",
      "    smokers_by_sex = df.groupby(['sex', 'smoker']).size().unstack()\n",
      "    print(\"\\nSmokers count by sex:\")\n",
      "    print(smokers_by_sex)\n",
      "    \n",
      "    # Analysis 2: Average BMI by sex\n",
      "    avg_bmi_by_sex = df.groupby('sex')['bmi'].mean()\n",
      "    print(\"\\nAverage BMI by sex:\")\n",
      "    print(avg_bmi_by_sex)\n",
      "    \n",
      "    # Create a figure with two subplots\n",
      "    fig, (ax1, ax2) = plt.subplots(1, 2, figsize=(14, 6))\n",
      "    \n",
      "    # Plot 1: Smokers by sex\n",
      "    smokers_by_sex.plot(kind='bar', ax=ax1)\n",
      "    ax1.set_title('Smokers Count by Sex')\n",
      "    ax1.set_xlabel('Sex')\n",
      "    ax1.set_ylabel('Count')\n",
      "    ax1.legend(title='Smoker')\n",
      "    \n",
      "    # Plot 2: Average BMI by sex\n",
      "    avg_bmi_by_sex.plot(kind='bar', ax=ax2, color='green')\n",
      "    ax2.set_title('Average BMI by Sex')\n",
      "    ax2.set_xlabel('Sex')\n",
      "    ax2.set_ylabel('Average BMI')\n",
      "    \n",
      "    plt.tight_layout()\n",
      "    plt.savefig('analysis_results.png')\n",
      "    plt.show()\n",
      "    \n",
      "    # Additional visualization: Smoker percentage by sex\n",
      "    smoker_percent = (df.groupby(['sex', 'smoker']).size() / \n",
      "                      df.groupby('sex').size()).unstack() * 100\n",
      "    \n",
      "    plt.figure(figsize=(10, 6))\n",
      "    smoker_percent.plot(kind='bar', stacked=True)\n",
      "    plt.title('Percentage of Smokers by Sex')\n",
      "    plt.xlabel('Sex')\n",
      "    plt.ylabel('Percentage (%)')\n",
      "    plt.legend(title='Smoker')\n",
      "    plt.tight_layout()\n",
      "    plt.savefig('smoker_percentage.png')\n",
      "    plt.show()\n",
      "else:\n",
      "    print(\"No CSV file found. Please check the file path.\")\n",
      "Running the code in the sandbox....\n"
     ]
    },
    {
     "ename": "TimeoutException",
     "evalue": "{\"message\":\"Sandbox not found\",\"sandboxId\":\"iss793qsn5z95f5xpzon6\",\"code\":0}: This error is likely due to sandbox timeout. You can modify the sandbox timeout by passing 'timeout' when starting the sandbox or calling '.set_timeout' on the sandbox with the desired timeout.",
     "output_type": "error",
     "traceback": [
      "\u001b[31m---------------------------------------------------------------------------\u001b[39m",
      "\u001b[31mTimeoutException\u001b[39m                          Traceback (most recent call last)",
      "\u001b[36mCell\u001b[39m\u001b[36m \u001b[39m\u001b[32mIn[56]\u001b[39m\u001b[32m, line 7\u001b[39m\n\u001b[32m      5\u001b[39m \u001b[38;5;28mprint\u001b[39m(\u001b[33m'\u001b[39m\u001b[33mWill run following code in the sandbox\u001b[39m\u001b[33m'\u001b[39m, code)\n\u001b[32m      6\u001b[39m \u001b[38;5;66;03m# Execute the code in the sandbox\u001b[39;00m\n\u001b[32m----> \u001b[39m\u001b[32m7\u001b[39m \u001b[43mrun_ai_generated_code\u001b[49m\u001b[43m(\u001b[49m\u001b[43mcode\u001b[49m\u001b[43m)\u001b[49m\n",
      "\u001b[36mCell\u001b[39m\u001b[36m \u001b[39m\u001b[32mIn[53]\u001b[39m\u001b[32m, line 3\u001b[39m, in \u001b[36mrun_ai_generated_code\u001b[39m\u001b[34m(ai_generated_code)\u001b[39m\n\u001b[32m      1\u001b[39m \u001b[38;5;28;01mdef\u001b[39;00m\u001b[38;5;250m \u001b[39m\u001b[34mrun_ai_generated_code\u001b[39m(ai_generated_code: \u001b[38;5;28mstr\u001b[39m):\n\u001b[32m      2\u001b[39m     \u001b[38;5;28mprint\u001b[39m(\u001b[33m'\u001b[39m\u001b[33mRunning the code in the sandbox....\u001b[39m\u001b[33m'\u001b[39m)\n\u001b[32m----> \u001b[39m\u001b[32m3\u001b[39m     execution = \u001b[43msbx\u001b[49m\u001b[43m.\u001b[49m\u001b[43mrun_code\u001b[49m\u001b[43m(\u001b[49m\u001b[43mai_generated_code\u001b[49m\u001b[43m)\u001b[49m\n\u001b[32m      4\u001b[39m     \u001b[38;5;28mprint\u001b[39m(\u001b[33m'\u001b[39m\u001b[33mCode execution finished!\u001b[39m\u001b[33m'\u001b[39m)\n\u001b[32m      6\u001b[39m     \u001b[38;5;66;03m# First let's check if the code ran successfully.\u001b[39;00m\n",
      "\u001b[36mFile \u001b[39m\u001b[32m~/Desktop/data_agent/venv/lib/python3.11/site-packages/e2b_code_interpreter/code_interpreter_sync.py:205\u001b[39m, in \u001b[36mSandbox.run_code\u001b[39m\u001b[34m(self, code, language, context, on_stdout, on_stderr, on_result, on_error, envs, timeout, request_timeout)\u001b[39m\n\u001b[32m    203\u001b[39m err = extract_exception(response)\n\u001b[32m    204\u001b[39m \u001b[38;5;28;01mif\u001b[39;00m err:\n\u001b[32m--> \u001b[39m\u001b[32m205\u001b[39m     \u001b[38;5;28;01mraise\u001b[39;00m err\n\u001b[32m    207\u001b[39m execution = Execution()\n\u001b[32m    209\u001b[39m \u001b[38;5;28;01mfor\u001b[39;00m line \u001b[38;5;129;01min\u001b[39;00m response.iter_lines():\n",
      "\u001b[31mTimeoutException\u001b[39m: {\"message\":\"Sandbox not found\",\"sandboxId\":\"iss793qsn5z95f5xpzon6\",\"code\":0}: This error is likely due to sandbox timeout. You can modify the sandbox timeout by passing 'timeout' when starting the sandbox or calling '.set_timeout' on the sandbox with the desired timeout."
     ]
    }
   ],
   "source": [
    "for content_block in msg.content:\n",
    "    if content_block.type == 'tool_use':\n",
    "        if content_block.name == 'run_python_code':\n",
    "            code = content_block.input['code']\n",
    "            print('Will run following code in the sandbox', code)\n",
    "            # Execute the code in the sandbox\n",
    "            run_ai_generated_code(code)\n"
   ]
  },
  {
   "cell_type": "code",
   "execution_count": 57,
   "metadata": {},
   "outputs": [
    {
     "name": "stdout",
     "output_type": "stream",
     "text": [
      "Files in current directory: ['charts', 'test.py', 'Train_Data.csv', 'test.ipynb']\n",
      "CSV files found: ['Train_Data.csv']\n",
      "Using file: Train_Data.csv\n",
      "Dataset shape: (3630, 7)\n",
      "\n",
      "Data sample:\n",
      "         age     sex        bmi smoker     region  children       charges\n",
      "0  21.000000    male  25.745000     no  northeast         2   3279.868550\n",
      "1  36.976978  female  25.744165    yes  southeast         3  21454.494239\n",
      "2  18.000000    male  30.030000     no  southeast         1   1720.353700\n",
      "3  37.000000    male  30.676891     no  northeast         3   6801.437542\n",
      "4  58.000000    male  32.010000     no  southeast         1  11946.625900\n",
      "\n",
      "Smokers count by sex:\n",
      "smoker    no  yes\n",
      "sex              \n",
      "female  1405  196\n",
      "male    1665  364\n",
      "\n",
      "Average BMI by sex:\n",
      "sex\n",
      "female    30.698342\n",
      "male      30.575453\n",
      "Name: bmi, dtype: float64\n"
     ]
    },
    {
     "data": {
      "image/png": "[encoded data removed]",
      "text/plain": [
       "<Figure size 1400x600 with 2 Axes>"
      ]
     },
     "metadata": {},
     "output_type": "display_data"
    },
    {
     "data": {
      "text/plain": [
       "<Figure size 1000x600 with 0 Axes>"
      ]
     },
     "metadata": {},
     "output_type": "display_data"
    },
    {
     "data": {
      "image/png": "[encoded data removed]",
      "text/plain": [
       "<Figure size 640x480 with 1 Axes>"
      ]
     },
     "metadata": {},
     "output_type": "display_data"
    }
   ],
   "source": [
    "import matplotlib.pyplot as plt\n",
    "import seaborn as sns\n",
    "import os\n",
    "\n",
    "# List files in the current directory to locate the dataset\n",
    "print(\"Files in current directory:\", os.listdir())\n",
    "\n",
    "# Since the exact path wasn't specified, let's try to find the file\n",
    "csv_files = [f for f in os.listdir() if f.endswith('.csv')]\n",
    "print(\"CSV files found:\", csv_files)\n",
    "\n",
    "# Assuming the first CSV file is our dataset\n",
    "if csv_files:\n",
    "    file_path = csv_files[0]\n",
    "    print(f\"Using file: {file_path}\")\n",
    "    \n",
    "    # Load the dataset\n",
    "    df = pd.read_csv(file_path)\n",
    "    \n",
    "    # Display basic info\n",
    "    print(\"Dataset shape:\", df.shape)\n",
    "    print(\"\\nData sample:\")\n",
    "    print(df.head())\n",
    "    \n",
    "    # Analysis 1: Smokers count by sex\n",
    "    smokers_by_sex = df.groupby(['sex', 'smoker']).size().unstack()\n",
    "    print(\"\\nSmokers count by sex:\")\n",
    "    print(smokers_by_sex)\n",
    "    \n",
    "    # Analysis 2: Average BMI by sex\n",
    "    avg_bmi_by_sex = df.groupby('sex')['bmi'].mean()\n",
    "    print(\"\\nAverage BMI by sex:\")\n",
    "    print(avg_bmi_by_sex)\n",
    "    \n",
    "    # Create a figure with two subplots\n",
    "    fig, (ax1, ax2) = plt.subplots(1, 2, figsize=(14, 6))\n",
    "    \n",
    "    # Plot 1: Smokers by sex\n",
    "    smokers_by_sex.plot(kind='bar', ax=ax1)\n",
    "    ax1.set_title('Smokers Count by Sex')\n",
    "    ax1.set_xlabel('Sex')\n",
    "    ax1.set_ylabel('Count')\n",
    "    ax1.legend(title='Smoker')\n",
    "    \n",
    "    # Plot 2: Average BMI by sex\n",
    "    avg_bmi_by_sex.plot(kind='bar', ax=ax2, color='green')\n",
    "    ax2.set_title('Average BMI by Sex')\n",
    "    ax2.set_xlabel('Sex')\n",
    "    ax2.set_ylabel('Average BMI')\n",
    "    \n",
    "    plt.tight_layout()\n",
    "    plt.savefig('analysis_results.png')\n",
    "    plt.show()\n",
    "    \n",
    "    # Additional visualization: Smoker percentage by sex\n",
    "    smoker_percent = (df.groupby(['sex', 'smoker']).size() / \n",
    "                      df.groupby('sex').size()).unstack() * 100\n",
    "    \n",
    "    plt.figure(figsize=(10, 6))\n",
    "    smoker_percent.plot(kind='bar', stacked=True)\n",
    "    plt.title('Percentage of Smokers by Sex')\n",
    "    plt.xlabel('Sex')\n",
    "    plt.ylabel('Percentage (%)')\n",
    "    plt.legend(title='Smoker')\n",
    "    plt.tight_layout()\n",
    "    plt.savefig('smoker_percentage.png')\n",
    "    plt.show()\n",
    "else:\n",
    "    print(\"No CSV file found. Please check the file path.\")"
   ]
  }
 ],
 "metadata": {
  "kernelspec": {
   "display_name": "venv",
   "language": "python",
   "name": "python3"
  },
  "language_info": {
   "codemirror_mode": {
    "name": "ipython",
    "version": 3
   },
   "file_extension": ".py",
   "mimetype": "text/x-python",
   "name": "python",
   "nbconvert_exporter": "python",
   "pygments_lexer": "ipython3",
   "version": "3.11.1"
  }
 },
 "nbformat": 4,
 "nbformat_minor": 2
}
